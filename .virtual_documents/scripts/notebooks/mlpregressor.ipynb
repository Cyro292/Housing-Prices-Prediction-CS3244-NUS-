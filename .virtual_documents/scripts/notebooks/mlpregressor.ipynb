from lib.utils import get_train_split_data, load_all_resale_data, get_cleaned_normalized_data
from lib.eval import get_regression_metrics
from sklearn.neural_network import MLPRegressor
from sklearn.metrics import mean_squared_error, mean_absolute_error, r2_score
import pandas as pd
import numpy as np
import matplotlib.pyplot as plt


# Configuration
RANDOM_STATE = 42
TEST_SIZE = 0.2
HIDDEN_LAYER_SIZES = (64, 32)
MAX_ITER = 200


X, y = load_all_resale_data()

X, y = get_cleaned_normalized_data(X, y)

# Split data
print(f"Splitting data with test size {TEST_SIZE}...")
X_train, X_test, y_train, y_test = get_train_split_data(X, y, TEST_SIZE)


# Initialize model
print("Initializing MLPRegressor...")
model = MLPRegressor(
    hidden_layer_sizes=HIDDEN_LAYER_SIZES,
    max_iter=MAX_ITER,
    random_state=RANDOM_STATE,
    early_stopping=True,
    validation_fraction=0.1,
    verbose=True
)


# Train model
print("Training neural network...")
model.fit(X_train, y_train)


# Make predictions
print("Making predictions...")
train_preds = model.predict(X_train)
test_preds = model.predict(X_test)


# Evaluate
print("\nTraining Performance:")
print(f"- MSE: {mean_squared_error(y_train, train_preds):.4f}")
print(f"- MAE: {mean_absolute_error(y_train, train_preds):.4f}")
print(f"- R²: {r2_score(y_train, train_preds):.4f}")

print("\nTest Performance:")
print(f"- MSE: {mean_squared_error(y_test, test_preds):.4f}")
print(f"- MAE: {mean_absolute_error(y_test, test_preds):.4f}")
print(f"- R²: {r2_score(y_test, test_preds):.4f}")


# Plot results
plt.figure(figsize=(10, 6))
plt.scatter(y_test, test_preds, alpha=0.3)
plt.plot([y.min(), y.max()], [y.min(), y.max()], 'r--')
plt.xlabel("Actual Prices")
plt.ylabel("Predicted Prices")
plt.title("Actual vs Predicted Prices")
plt.show()
