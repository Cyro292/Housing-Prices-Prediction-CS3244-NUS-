{
 "cells": [
  {
   "cell_type": "code",
   "execution_count": 2,
   "id": "5c48e355-1577-4f45-8d66-df0736bfcdc3",
   "metadata": {},
   "outputs": [],
   "source": [
    "from lib.utils import get_train_split_data, load_all_resale_data, get_cleaned_normalized_data\n",
    "from lib.eval import get_regression_metrics\n",
    "from sklearn.neural_network import MLPRegressor\n",
    "from sklearn.metrics import mean_squared_error, mean_absolute_error, r2_score\n",
    "import pandas as pd\n",
    "import numpy as np\n",
    "import matplotlib.pyplot as plt"
   ]
  },
  {
   "cell_type": "code",
   "execution_count": 3,
   "id": "2192b8a7-6782-4800-b938-eb314d79cf1d",
   "metadata": {},
   "outputs": [],
   "source": [
    "# Configuration\n",
    "RANDOM_STATE = 42\n",
    "TEST_SIZE = 0.2\n",
    "HIDDEN_LAYER_SIZES = (64, 32)\n",
    "MAX_ITER = 200"
   ]
  },
  {
   "cell_type": "code",
   "execution_count": 4,
   "id": "25fdcee2-1fb0-4a9a-943f-43c4979f75f9",
   "metadata": {},
   "outputs": [
    {
     "name": "stdout",
     "output_type": "stream",
     "text": [
      "Loading data from c:\\users\\wzaww\\projects\\nus-cs3244-assignment1\\scripts\\lib\\../data\\Resale Flat Prices (Based on Approval Date), 1990 - 1999.csv...\n",
      "Loading data from c:\\users\\wzaww\\projects\\nus-cs3244-assignment1\\scripts\\lib\\../data\\Resale Flat Prices (Based on Approval Date), 2000 - Feb 2012.csv...\n",
      "Loading data from c:\\users\\wzaww\\projects\\nus-cs3244-assignment1\\scripts\\lib\\../data\\Resale Flat Prices (Based on Registration Date), From Mar 2012 to Dec 2014.csv...\n",
      "Loading data from c:\\users\\wzaww\\projects\\nus-cs3244-assignment1\\scripts\\lib\\../data\\Resale Flat Prices (Based on Registration Date), From Jan 2015 to Dec 2016.csv...\n",
      "Loading data from c:\\users\\wzaww\\projects\\nus-cs3244-assignment1\\scripts\\lib\\../data\\Resale flat prices based on registration date from Jan-2017 onwards.csv...\n",
      "Combined dataset shape: (948962, 11)\n",
      "Features shape: (948962, 10)\n",
      "Target shape: (948962,)\n",
      "Selected features: month, town, flat_type, block, street_name, storey_range, floor_area_sqm, flat_model, lease_commence_date, remaining_lease\n",
      "Found 279 NaN values after processing. Handling them...\n",
      "Splitting data with test size 0.2...\n"
     ]
    }
   ],
   "source": [
    "X, y = load_all_resale_data()\n",
    "\n",
    "X, y = get_cleaned_normalized_data(X, y)\n",
    "\n",
    "# Split data\n",
    "print(f\"Splitting data with test size {TEST_SIZE}...\")\n",
    "X_train, X_test, y_train, y_test = get_train_split_data(X, y, TEST_SIZE)"
   ]
  },
  {
   "cell_type": "code",
   "execution_count": 5,
   "id": "29db5990-dd6a-49f7-b553-40a32bdf2a45",
   "metadata": {},
   "outputs": [
    {
     "name": "stdout",
     "output_type": "stream",
     "text": [
      "Initializing MLPRegressor...\n"
     ]
    }
   ],
   "source": [
    "# Initialize model\n",
    "print(\"Initializing MLPRegressor...\")\n",
    "model = MLPRegressor(\n",
    "    hidden_layer_sizes=HIDDEN_LAYER_SIZES,\n",
    "    max_iter=MAX_ITER,\n",
    "    random_state=RANDOM_STATE,\n",
    "    early_stopping=True,\n",
    "    validation_fraction=0.1,\n",
    "    verbose=True\n",
    ")"
   ]
  },
  {
   "cell_type": "code",
   "execution_count": null,
   "id": "a0a8d358-bd53-4bef-ab11-cabb787eef8b",
   "metadata": {},
   "outputs": [
    {
     "name": "stdout",
     "output_type": "stream",
     "text": [
      "Training neural network...\n",
      "Iteration 1, loss = 68811596356.47735596\n",
      "Validation score: -3.177422\n",
      "Iteration 2, loss = 57999504753.30496979\n",
      "Validation score: -2.000902\n",
      "Iteration 3, loss = 35051591339.77300262\n",
      "Validation score: -0.501851\n",
      "Iteration 4, loss = 16837560599.49104881\n",
      "Validation score: 0.203891\n"
     ]
    }
   ],
   "source": [
    "# Train model\n",
    "print(\"Training neural network...\")\n",
    "model.fit(X_train, y_train)"
   ]
  },
  {
   "cell_type": "code",
   "execution_count": null,
   "id": "c8760d56-f9ec-4318-b61c-ae9eaa930d85",
   "metadata": {},
   "outputs": [],
   "source": [
    "# Make predictions\n",
    "print(\"Making predictions...\")\n",
    "train_preds = model.predict(X_train)\n",
    "test_preds = model.predict(X_test)"
   ]
  },
  {
   "cell_type": "code",
   "execution_count": null,
   "id": "f4c34ac9-ffff-4cdc-b1b3-9389f33fa32e",
   "metadata": {},
   "outputs": [],
   "source": [
    "# Evaluate\n",
    "print(\"\\nTraining Performance:\")\n",
    "print(f\"- MSE: {mean_squared_error(y_train, train_preds):.4f}\")\n",
    "print(f\"- MAE: {mean_absolute_error(y_train, train_preds):.4f}\")\n",
    "print(f\"- R²: {r2_score(y_train, train_preds):.4f}\")\n",
    "\n",
    "print(\"\\nTest Performance:\")\n",
    "print(f\"- MSE: {mean_squared_error(y_test, test_preds):.4f}\")\n",
    "print(f\"- MAE: {mean_absolute_error(y_test, test_preds):.4f}\")\n",
    "print(f\"- R²: {r2_score(y_test, test_preds):.4f}\")"
   ]
  },
  {
   "cell_type": "code",
   "execution_count": null,
   "id": "1cc98ea9-50f2-4862-aeef-e8bcb783fd5e",
   "metadata": {},
   "outputs": [],
   "source": [
    "# Plot results\n",
    "plt.figure(figsize=(10, 6))\n",
    "plt.scatter(y_test, test_preds, alpha=0.3)\n",
    "plt.plot([y.min(), y.max()], [y.min(), y.max()], 'r--')\n",
    "plt.xlabel(\"Actual Prices\")\n",
    "plt.ylabel(\"Predicted Prices\")\n",
    "plt.title(\"Actual vs Predicted Prices\")\n",
    "plt.show()"
   ]
  }
 ],
 "metadata": {
  "kernelspec": {
   "display_name": "Python [conda env:base] *",
   "language": "python",
   "name": "conda-base-py"
  },
  "language_info": {
   "codemirror_mode": {
    "name": "ipython",
    "version": 3
   },
   "file_extension": ".py",
   "mimetype": "text/x-python",
   "name": "python",
   "nbconvert_exporter": "python",
   "pygments_lexer": "ipython3",
   "version": "3.12.7"
  }
 },
 "nbformat": 4,
 "nbformat_minor": 5
}
