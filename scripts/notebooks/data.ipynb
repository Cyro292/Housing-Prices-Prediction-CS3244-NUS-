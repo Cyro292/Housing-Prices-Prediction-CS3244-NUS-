{
 "cells": [
  {
   "cell_type": "code",
   "execution_count": 24,
   "metadata": {},
   "outputs": [
    {
     "name": "stdout",
     "output_type": "stream",
     "text": [
      "Total initial rows across all tables: 948962\n",
      "Total rows after cleaning and computing remaining_lease: 948962\n",
      "Total data points lost during cleaning: 0\n"
     ]
    }
   ],
   "source": [
    "import pandas as pd\n",
    "\n",
    "file_names = ['../data/Resale Flat Prices (Based on Approval Date), 1990 - 1999.csv', \n",
    "              '../data/Resale Flat Prices (Based on Approval Date), 2000 - Feb 2012.csv', \n",
    "              '../data/Resale Flat Prices (Based on Registration Date), From Mar 2012 to Dec 2014.csv', \n",
    "              '../data/Resale Flat Prices (Based on Registration Date), From Jan 2015 to Dec 2016.csv', \n",
    "              '../data/Resale flat prices based on registration date from Jan-2017 onwards.csv']\n",
    "\n",
    "initial_counts = []\n",
    "final_counts = []\n",
    "\n",
    "dfs = []\n",
    "\n",
    "for file in file_names:\n",
    "    df = pd.read_csv(file)\n",
    "    \n",
    "    initial_count = len(df)\n",
    "    initial_counts.append(initial_count)\n",
    "    \n",
    "    df = df.dropna()\n",
    "    cleaned_count = len(df)\n",
    "    final_counts.append(cleaned_count)\n",
    "    \n",
    "    if 'remaining_lease' not in df.columns:\n",
    "        df['year'] = df['month'].str[:4].astype(int)\n",
    "\n",
    "        df['remaining_lease'] = (df['lease_commence_date'] + 99) - df['year']\n",
    "\n",
    "        df.drop(columns=['year'], inplace=True)\n",
    "    \n",
    "    dfs.append(df)\n",
    "\n",
    "merged_df = pd.concat(dfs, ignore_index=True)\n",
    "\n",
    "total_initial = sum(initial_counts)\n",
    "total_final = len(merged_df)\n",
    "lost_rows = total_initial - total_final\n",
    "\n",
    "print(\"Total initial rows across all tables:\", total_initial)\n",
    "print(\"Total rows after cleaning and computing remaining_lease:\", total_final)\n",
    "print(\"Total data points lost during cleaning:\", lost_rows)\n",
    "\n"
   ]
  },
  {
   "cell_type": "code",
   "execution_count": null,
   "metadata": {},
   "outputs": [],
   "source": []
  }
 ],
 "metadata": {
  "kernelspec": {
   "display_name": "Python 3 (ipykernel)",
   "language": "python",
   "name": "python3"
  },
  "language_info": {
   "codemirror_mode": {
    "name": "ipython",
    "version": 3
   },
   "file_extension": ".py",
   "mimetype": "text/x-python",
   "name": "python",
   "nbconvert_exporter": "python",
   "pygments_lexer": "ipython3",
   "version": "3.11.4"
  }
 },
 "nbformat": 4,
 "nbformat_minor": 2
}
