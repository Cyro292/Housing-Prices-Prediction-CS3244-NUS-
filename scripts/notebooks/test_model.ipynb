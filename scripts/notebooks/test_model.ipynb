{
 "cells": [
  {
   "cell_type": "code",
   "execution_count": null,
   "metadata": {},
   "outputs": [],
   "source": [
    "from lib.utils import get_train_split_data, load_all_resale_data\n",
    "from lib.eval import get_regression_metrics\n",
    "\n",
    "X, y = load_all_resale_data()\n",
    "\n",
    "# drop non-numeric columns\n",
    "X = X.select_dtypes(include=['number'])\n",
    "\n",
    "# Change the order to match what the function returns\n",
    "X_train, X_test, y_train, y_test = get_train_split_data(X, y, 0.2)\n",
    "\n",
    "\n",
    "print(f\"X_train shape: {X_train.shape}\")\n",
    "print(f\"X_test shape: {X_test.shape}\")\n",
    "print(f\"y_train shape: {y_train.shape}\")\n",
    "print(f\"y_test shape: {y_test.shape}\")\n",
    "\n",
    "# train a linear regression model\n",
    "from sklearn.linear_model import LinearRegression\n",
    "model = LinearRegression()\n",
    "model.fit(X_train, y_train)\n",
    "y_pred = model.predict(X_test)\n",
    "# evaluate the model\n",
    "metrics = get_regression_metrics(y_test, y_pred)\n",
    "print(f\"MAE: {metrics['mae']}\")\n",
    "print(f\"RMSE: {metrics['rmse']}\")\n",
    "print(f\"R2: {metrics['r2']}\")"
   ]
  }
 ],
 "metadata": {
  "language_info": {
   "name": "python"
  }
 },
 "nbformat": 4,
 "nbformat_minor": 2
}
