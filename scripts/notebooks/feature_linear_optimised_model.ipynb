{
 "cells": [
  {
   "cell_type": "code",
   "execution_count": null,
   "metadata": {},
   "outputs": [
    {
     "name": "stdout",
     "output_type": "stream",
     "text": [
      "Loading data from /Users/amonsisowath/VSC/Uni/Sing2425/CS3244/Assignment1/scripts/lib/../data/Resale Flat Prices (Based on Approval Date), 1990 - 1999.csv...\n",
      "Loading data from /Users/amonsisowath/VSC/Uni/Sing2425/CS3244/Assignment1/scripts/lib/../data/Resale Flat Prices (Based on Approval Date), 2000 - Feb 2012.csv...\n",
      "Loading data from /Users/amonsisowath/VSC/Uni/Sing2425/CS3244/Assignment1/scripts/lib/../data/Resale Flat Prices (Based on Registration Date), From Mar 2012 to Dec 2014.csv...\n",
      "Loading data from /Users/amonsisowath/VSC/Uni/Sing2425/CS3244/Assignment1/scripts/lib/../data/Resale Flat Prices (Based on Registration Date), From Jan 2015 to Dec 2016.csv...\n",
      "Loading data from /Users/amonsisowath/VSC/Uni/Sing2425/CS3244/Assignment1/scripts/lib/../data/Resale flat prices based on registration date from Jan-2017 onwards.csv...\n",
      "Combined dataset shape: (948962, 11)\n",
      "Features shape: (948962, 10)\n",
      "Target shape: (948962,)\n",
      "Selected features: month, town, flat_type, block, street_name, storey_range, floor_area_sqm, flat_model, lease_commence_date, remaining_lease\n",
      "Found 279 NaN values after processing. Handling them...\n",
      "X_train shape: (189792, 2800)\n",
      "X_test shape: (759170, 2800)\n",
      "y_train shape: (189792,)\n",
      "y_test shape: (759170,)\n",
      "MAE: 48266.948586673745\n",
      "RMSE: 63603.33057327844\n",
      "R2: 0.8709288227457899\n"
     ]
    }
   ],
   "source": [
    "from lib.utils import get_train_split_data, load_all_resale_data, get_cleaned_normalized_data\n",
    "from lib.eval import get_regression_metrics\n",
    "\n",
    "X, y = load_all_resale_data()\n",
    "\n",
    "X, y = get_cleaned_normalized_data(X, y)\n",
    "\n",
    "# Change the order to match what the function returns\n",
    "X_train, X_test, y_train, y_test = get_train_split_data(X, y, 0.2)\n",
    "\n",
    "print(f\"X_train shape: {X_train.shape}\")\n",
    "print(f\"X_test shape: {X_test.shape}\")\n",
    "print(f\"y_train shape: {y_train.shape}\")\n",
    "print(f\"y_test shape: {y_test.shape}\")\n",
    "\n",
    "# train a linear regression model\n",
    "from sklearn.linear_model import LinearRegression\n",
    "model = LinearRegression()\n",
    "model.fit(X_train, y_train)\n",
    "y_pred = model.predict(X_test)\n",
    "y_pred_train = model.predict(X_train)\n",
    "\n",
    "metrics = get_regression_metrics(y_train, y_pred_train)\n",
    "print(f\"Train MAE: {metrics['mae']}\")\n",
    "print(f\"Train RMSE: {metrics['rmse']}\")\n",
    "print(f\"Train R2: {metrics['r2']}\")\n",
    "# evaluate the model\n",
    "metrics = get_regression_metrics(y_test, y_pred)\n",
    "print(f\"MAE: {metrics['mae']}\")\n",
    "print(f\"RMSE: {metrics['rmse']}\")\n",
    "print(f\"R2: {metrics['r2']}\")"
   ]
  }
 ],
 "metadata": {
  "kernelspec": {
   "display_name": "venv",
   "language": "python",
   "name": "python3"
  },
  "language_info": {
   "codemirror_mode": {
    "name": "ipython",
    "version": 3
   },
   "file_extension": ".py",
   "mimetype": "text/x-python",
   "name": "python",
   "nbconvert_exporter": "python",
   "pygments_lexer": "ipython3",
   "version": "3.13.0"
  }
 },
 "nbformat": 4,
 "nbformat_minor": 2
}
